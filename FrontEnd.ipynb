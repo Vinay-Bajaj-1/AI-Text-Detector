{
 "cells": [
  {
   "cell_type": "code",
   "execution_count": 2,
   "metadata": {},
   "outputs": [],
   "source": [
    "import streamlit as st"
   ]
  },
  {
   "cell_type": "code",
   "execution_count": 3,
   "metadata": {},
   "outputs": [],
   "source": [
    "import pandas as pd\n",
    "from sklearn.feature_extraction.text import TfidfVectorizer\n",
    "from sklearn.linear_model import LogisticRegression\n",
    "import joblib\n",
    "\n",
    "# Load the trained model and vectorizer\n",
    "model = joblib.load('lr_model.pkl')\n",
    "vectorizer = joblib.load('lr_vectorizer.pkl')\n",
    "\n",
    "# Function to predict\n",
    "def predict(text):\n",
    "    # Vectorize the input text\n",
    "    text_vectorized = vectorizer.transform([text])\n",
    "    # Predict using the loaded model\n",
    "    prediction = model.predict(text_vectorized)\n",
    "    return prediction[0]"
   ]
  },
  {
   "cell_type": "code",
   "execution_count": 7,
   "metadata": {},
   "outputs": [],
   "source": [
    "def main():\n",
    "    st.title(\"AI Detection System\")\n",
    "\n",
    "    # Input text box for user to enter text\n",
    "    user_input = st.text_area(\"Enter the text you want to analyze\", \"\")\n",
    "\n",
    "    if st.button(\"Predict\"):\n",
    "        # Make prediction when user clicks the button\n",
    "        prediction = predict(user_input)\n",
    "        if prediction == 0:\n",
    "            st.error(\"AI Detection: Not generated\")\n",
    "        else:\n",
    "            st.success(\"AI Detection: Generated\")"
   ]
  },
  {
   "cell_type": "code",
   "execution_count": 8,
   "metadata": {},
   "outputs": [],
   "source": [
    "if __name__ == \"__main__\":\n",
    "    main()"
   ]
  }
 ],
 "metadata": {
  "kernelspec": {
   "display_name": "Python 3",
   "language": "python",
   "name": "python3"
  },
  "language_info": {
   "codemirror_mode": {
    "name": "ipython",
    "version": 3
   },
   "file_extension": ".py",
   "mimetype": "text/x-python",
   "name": "python",
   "nbconvert_exporter": "python",
   "pygments_lexer": "ipython3",
   "version": "3.11.9"
  }
 },
 "nbformat": 4,
 "nbformat_minor": 2
}
