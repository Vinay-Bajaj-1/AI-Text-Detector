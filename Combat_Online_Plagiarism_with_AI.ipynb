{
  "cells": [
    {
      "cell_type": "code",
      "execution_count": 1,
      "metadata": {
        "colab": {
          "base_uri": "https://localhost:8080/"
        },
        "id": "ghRS85rTPv-2",
        "outputId": "0579e495-f7b1-42ff-c795-610698eeef72"
      },
      "outputs": [
        {
          "name": "stderr",
          "output_type": "stream",
          "text": [
            "[nltk_data] Downloading package stopwords to\n",
            "[nltk_data]     C:\\Users\\Vinay\\AppData\\Roaming\\nltk_data...\n",
            "[nltk_data]   Package stopwords is already up-to-date!\n",
            "[nltk_data] Downloading package punkt to\n",
            "[nltk_data]     C:\\Users\\Vinay\\AppData\\Roaming\\nltk_data...\n",
            "[nltk_data]   Package punkt is already up-to-date!\n",
            "[nltk_data] Downloading package wordnet to\n",
            "[nltk_data]     C:\\Users\\Vinay\\AppData\\Roaming\\nltk_data...\n",
            "[nltk_data]   Package wordnet is already up-to-date!\n"
          ]
        },
        {
          "data": {
            "text/plain": [
              "True"
            ]
          },
          "execution_count": 1,
          "metadata": {},
          "output_type": "execute_result"
        }
      ],
      "source": [
        "import pandas as pd\n",
        "from sklearn.model_selection import train_test_split\n",
        "from sklearn.feature_extraction.text import TfidfVectorizer\n",
        "from sklearn.linear_model import LogisticRegression\n",
        "from sklearn.metrics import accuracy_score\n",
        "from sklearn.metrics.pairwise import cosine_similarity\n",
        "import re\n",
        "import nltk\n",
        "from nltk.corpus import stopwords\n",
        "from nltk.tokenize import word_tokenize\n",
        "from nltk.stem import WordNetLemmatizer\n",
        "import matplotlib.pyplot as plt\n",
        "from sklearn.feature_extraction.text import CountVectorizer\n",
        "import numpy as np\n",
        "from tensorflow.keras.models import Model\n",
        "from tensorflow.keras.layers import Input, Dense\n",
        "from tensorflow.keras.callbacks import EarlyStopping\n",
        "from sklearn.svm import SVC\n",
        "from tensorflow.keras.models import save_model\n",
        "from collections import Counter\n",
        "from wordcloud import WordCloud\n",
        "import joblib\n",
        "# Download NLTK resources\n",
        "nltk.download('stopwords')\n",
        "nltk.download('punkt')\n",
        "nltk.download('wordnet')"
      ]
    },
    {
      "cell_type": "code",
      "execution_count": 2,
      "metadata": {
        "id": "5KPWJ4sgPyZ2"
      },
      "outputs": [],
      "source": [
        "data = pd.read_csv(\"C:\\\\Users\\\\Vinay\\\\Downloads\\\\archive\\\\AI_Human.csv\")"
      ]
    },
    {
      "cell_type": "code",
      "execution_count": 3,
      "metadata": {
        "colab": {
          "base_uri": "https://localhost:8080/",
          "height": 206
        },
        "id": "L8wXMHnAQB70",
        "outputId": "2220ceac-0f66-45c8-9ba8-7e593e562907"
      },
      "outputs": [
        {
          "data": {
            "text/html": [
              "<div>\n",
              "<style scoped>\n",
              "    .dataframe tbody tr th:only-of-type {\n",
              "        vertical-align: middle;\n",
              "    }\n",
              "\n",
              "    .dataframe tbody tr th {\n",
              "        vertical-align: top;\n",
              "    }\n",
              "\n",
              "    .dataframe thead th {\n",
              "        text-align: right;\n",
              "    }\n",
              "</style>\n",
              "<table border=\"1\" class=\"dataframe\">\n",
              "  <thead>\n",
              "    <tr style=\"text-align: right;\">\n",
              "      <th></th>\n",
              "      <th>text</th>\n",
              "      <th>generated</th>\n",
              "    </tr>\n",
              "  </thead>\n",
              "  <tbody>\n",
              "    <tr>\n",
              "      <th>0</th>\n",
              "      <td>Cars. Cars have been around since they became ...</td>\n",
              "      <td>0.0</td>\n",
              "    </tr>\n",
              "    <tr>\n",
              "      <th>1</th>\n",
              "      <td>Transportation is a large necessity in most co...</td>\n",
              "      <td>0.0</td>\n",
              "    </tr>\n",
              "    <tr>\n",
              "      <th>2</th>\n",
              "      <td>\"America's love affair with it's vehicles seem...</td>\n",
              "      <td>0.0</td>\n",
              "    </tr>\n",
              "    <tr>\n",
              "      <th>3</th>\n",
              "      <td>How often do you ride in a car? Do you drive a...</td>\n",
              "      <td>0.0</td>\n",
              "    </tr>\n",
              "    <tr>\n",
              "      <th>4</th>\n",
              "      <td>Cars are a wonderful thing. They are perhaps o...</td>\n",
              "      <td>0.0</td>\n",
              "    </tr>\n",
              "  </tbody>\n",
              "</table>\n",
              "</div>"
            ],
            "text/plain": [
              "                                                text  generated\n",
              "0  Cars. Cars have been around since they became ...        0.0\n",
              "1  Transportation is a large necessity in most co...        0.0\n",
              "2  \"America's love affair with it's vehicles seem...        0.0\n",
              "3  How often do you ride in a car? Do you drive a...        0.0\n",
              "4  Cars are a wonderful thing. They are perhaps o...        0.0"
            ]
          },
          "execution_count": 3,
          "metadata": {},
          "output_type": "execute_result"
        }
      ],
      "source": [
        "data.head()"
      ]
    },
    {
      "cell_type": "code",
      "execution_count": 4,
      "metadata": {},
      "outputs": [
        {
          "data": {
            "text/plain": [
              "(487235, 2)"
            ]
          },
          "execution_count": 4,
          "metadata": {},
          "output_type": "execute_result"
        }
      ],
      "source": [
        "data.shape"
      ]
    },
    {
      "cell_type": "code",
      "execution_count": 8,
      "metadata": {},
      "outputs": [
        {
          "data": {
            "image/png": "[encoded data removed]",
            "text/plain": [
              "<Figure size 640x480 with 1 Axes>"
            ]
          },
          "metadata": {},
          "output_type": "display_data"
        }
      ],
      "source": [
        "plt.subplot(1, 2, 2)\n",
        "plt.hist(data['generated'], bins=2, color='lightgreen', edgecolor='black')\n",
        "plt.title('Distribution of Labels in Undersampled Validation Set')\n",
        "plt.xlabel('Label')\n",
        "plt.ylabel('Count')\n",
        "plt.xticks([0, 1], ['Human', 'AI'])\n",
        "plt.show()"
      ]
    },
    {
      "cell_type": "code",
      "execution_count": 9,
      "metadata": {},
      "outputs": [],
      "source": [
        "ai_data = data[data['generated'] == 1.]\n",
        "human_data = data[data['generated'] == 0.]\n",
        "sample_size = min(len(ai_data), len(human_data), 30000)\n",
        "\n",
        "balanced_data = pd.concat([ai_data.sample(sample_size, random_state=42),\n",
        "                           human_data.sample(sample_size, random_state=42)])"
      ]
    },
    {
      "cell_type": "code",
      "execution_count": 10,
      "metadata": {},
      "outputs": [
        {
          "data": {
            "image/png": "[encoded data removed]",
            "text/plain": [
              "<Figure size 640x480 with 1 Axes>"
            ]
          },
          "metadata": {},
          "output_type": "display_data"
        }
      ],
      "source": [
        "plt.subplot(1, 2, 2)\n",
        "plt.hist(balanced_data['generated'], bins=2, color='lightgreen', edgecolor='black')\n",
        "plt.title('Distribution of Labels in Undersampled Training Set')\n",
        "plt.xlabel('Label')\n",
        "plt.ylabel('Count')\n",
        "plt.xticks([0, 1], ['Human', 'AI'])\n",
        "plt.show()"
      ]
    },
    {
      "cell_type": "code",
      "execution_count": 11,
      "metadata": {
        "id": "rV4wEgBygbpo"
      },
      "outputs": [],
      "source": [
        "# Function for text preprocessing\n",
        "def preprocess_text(text):\n",
        "    # Convert text to lowercase\n",
        "    text = text.lower()\n",
        "    # Remove special characters and numbers\n",
        "    text = re.sub(r'[^a-z\\s]', '', text)\n",
        "    # Tokenize text\n",
        "    tokens = word_tokenize(text)\n",
        "    # Remove stop words\n",
        "    stop_words = set(stopwords.words('english'))\n",
        "    tokens = [word for word in tokens if word not in stop_words]\n",
        "\n",
        "    lemmatizer = WordNetLemmatizer()\n",
        "    tokens = [lemmatizer.lemmatize(word) for word in tokens]\n",
        "    # Join tokens back into text\n",
        "    processed_text = ' '.join(tokens)\n",
        "    return processed_text"
      ]
    },
    {
      "cell_type": "code",
      "execution_count": 12,
      "metadata": {
        "id": "mymoGhhJjZV_"
      },
      "outputs": [],
      "source": [
        "# Preprocess text data\n",
        "balanced_data['processed_text'] = balanced_data['text'].apply(preprocess_text)"
      ]
    },
    {
      "cell_type": "code",
      "execution_count": 13,
      "metadata": {
        "id": "rxEhK37wlec0"
      },
      "outputs": [
        {
          "data": {
            "text/html": [
              "<div>\n",
              "<style scoped>\n",
              "    .dataframe tbody tr th:only-of-type {\n",
              "        vertical-align: middle;\n",
              "    }\n",
              "\n",
              "    .dataframe tbody tr th {\n",
              "        vertical-align: top;\n",
              "    }\n",
              "\n",
              "    .dataframe thead th {\n",
              "        text-align: right;\n",
              "    }\n",
              "</style>\n",
              "<table border=\"1\" class=\"dataframe\">\n",
              "  <thead>\n",
              "    <tr style=\"text-align: right;\">\n",
              "      <th></th>\n",
              "      <th>text</th>\n",
              "      <th>generated</th>\n",
              "      <th>processed_text</th>\n",
              "    </tr>\n",
              "  </thead>\n",
              "  <tbody>\n",
              "    <tr>\n",
              "      <th>279451</th>\n",
              "      <td>I believe that online classes and video confe...</td>\n",
              "      <td>1.0</td>\n",
              "      <td>believe online class video conferencing benefi...</td>\n",
              "    </tr>\n",
              "    <tr>\n",
              "      <th>143852</th>\n",
              "      <td>Hhe benefits of having a positive attitude ar...</td>\n",
              "      <td>1.0</td>\n",
              "      <td>hhe benefit positive attitude numerous importa...</td>\n",
              "    </tr>\n",
              "    <tr>\n",
              "      <th>346790</th>\n",
              "      <td>As an eighth grade student, I believe that pro...</td>\n",
              "      <td>1.0</td>\n",
              "      <td>eighth grade student believe problem opportuni...</td>\n",
              "    </tr>\n",
              "    <tr>\n",
              "      <th>32245</th>\n",
              "      <td>Title: The Facial Action Coding System: Decodi...</td>\n",
              "      <td>1.0</td>\n",
              "      <td>title facial action coding system decoding hum...</td>\n",
              "    </tr>\n",
              "    <tr>\n",
              "      <th>474437</th>\n",
              "      <td>A positive attitude is a powerful tool that c...</td>\n",
              "      <td>1.0</td>\n",
              "      <td>positive attitude powerful tool help individua...</td>\n",
              "    </tr>\n",
              "  </tbody>\n",
              "</table>\n",
              "</div>"
            ],
            "text/plain": [
              "                                                     text  generated   \n",
              "279451   I believe that online classes and video confe...        1.0  \\\n",
              "143852   Hhe benefits of having a positive attitude ar...        1.0   \n",
              "346790  As an eighth grade student, I believe that pro...        1.0   \n",
              "32245   Title: The Facial Action Coding System: Decodi...        1.0   \n",
              "474437   A positive attitude is a powerful tool that c...        1.0   \n",
              "\n",
              "                                           processed_text  \n",
              "279451  believe online class video conferencing benefi...  \n",
              "143852  hhe benefit positive attitude numerous importa...  \n",
              "346790  eighth grade student believe problem opportuni...  \n",
              "32245   title facial action coding system decoding hum...  \n",
              "474437  positive attitude powerful tool help individua...  "
            ]
          },
          "execution_count": 13,
          "metadata": {},
          "output_type": "execute_result"
        }
      ],
      "source": [
        "balanced_data.head()"
      ]
    },
    {
      "cell_type": "markdown",
      "metadata": {},
      "source": [
        "#EDA"
      ]
    },
    {
      "cell_type": "code",
      "execution_count": null,
      "metadata": {},
      "outputs": [],
      "source": [
        "essay_lengths = balanced_data['processed_text'].str.split().apply(len)\n",
        "plt.figure(figsize=(10, 6))\n",
        "plt.hist(essay_lengths, bins=20, color='skyblue', edgecolor='black')\n",
        "plt.title('Distribution of Essay Length')\n",
        "plt.xlabel('Number of Words')\n",
        "plt.ylabel('Frequency')\n",
        "plt.show()"
      ]
    },
    {
      "cell_type": "code",
      "execution_count": null,
      "metadata": {},
      "outputs": [],
      "source": [
        "word_counts = Counter(\" \".join(balanced_data['processed_text']).split()).most_common(20)\n",
        "words, counts = zip(*word_counts)\n",
        "plt.figure(figsize=(10, 6))\n",
        "plt.bar(words, counts, color='orange')\n",
        "plt.title('Top 20 Most Common Words')\n",
        "plt.xlabel('Words')\n",
        "plt.ylabel('Frequency')\n",
        "plt.xticks(rotation=45)\n",
        "plt.show()"
      ]
    },
    {
      "cell_type": "code",
      "execution_count": null,
      "metadata": {},
      "outputs": [],
      "source": [
        "wordcloud = WordCloud(width=800, height=400, background_color='white').generate(\" \".join(balanced_data['processed_text']))\n",
        "plt.figure(figsize=(12, 8))\n",
        "plt.imshow(wordcloud, interpolation='bilinear')\n",
        "plt.title('Word Cloud')\n",
        "plt.axis('off')\n",
        "plt.show()"
      ]
    },
    {
      "cell_type": "code",
      "execution_count": null,
      "metadata": {},
      "outputs": [],
      "source": [
        "all_words = word_tokenize(\" \".join(balanced_data['processed_text']))\n",
        "\n",
        "word_freq = nltk.FreqDist(all_words)\n",
        "top_words = word_freq.most_common(100)\n",
        "words, counts = zip(*top_words)\n",
        "ranks = range(1, len(words) + 1)\n",
        "\n",
        "# Plot term frequency using a line plot\n",
        "plt.figure(figsize=(12, 8))\n",
        "plt.plot(ranks, counts, color='green', linestyle='-')\n",
        "plt.title('Term Frequency of Top 100 Words')\n",
        "plt.xlabel('Rank')\n",
        "plt.ylabel('Frequency')\n",
        "plt.grid(True)\n",
        "plt.show()"
      ]
    },
    {
      "cell_type": "code",
      "execution_count": 14,
      "metadata": {},
      "outputs": [],
      "source": [
        "X = balanced_data['processed_text']\n",
        "y = balanced_data['generated']\n",
        "\n",
        "#X_test and y_test for final testing only\n",
        "X_train, X_test, y_train, y_test = train_test_split(X, y, test_size=0.2, random_state=42)\n",
        "\n",
        "#xtrainmain and y_trainmain for training and x_val and y_val for validation after training\n",
        "X_train_main, X_val, y_train_main, y_val = train_test_split(X_train, y_train, test_size=0.2, random_state=42)"
      ]
    },
    {
      "cell_type": "code",
      "execution_count": 22,
      "metadata": {},
      "outputs": [],
      "source": [
        "balanced_data.sample(n=100, random_state=42).iloc[:, :2].to_csv('testing_only.csv', index=False)\n"
      ]
    },
    {
      "cell_type": "markdown",
      "metadata": {},
      "source": [
        "##Cosine Similarity"
      ]
    },
    {
      "cell_type": "code",
      "execution_count": 12,
      "metadata": {},
      "outputs": [],
      "source": [
        "# Vectorize text data using TF-IDF\n",
        "vectorizer = TfidfVectorizer()\n",
        "X_train_vectors = vectorizer.fit_transform(X_train_main)\n",
        "X_test_vectors = vectorizer.transform(X_val)\n",
        "\n",
        "# Convert sparse matrices to numpy arrays\n",
        "X_train_vectors = X_train_vectors.toarray()\n",
        "X_test_vectors = X_test_vectors.toarray()"
      ]
    },
    {
      "cell_type": "markdown",
      "metadata": {},
      "source": [
        "#Neural Network"
      ]
    },
    {
      "cell_type": "code",
      "execution_count": null,
      "metadata": {},
      "outputs": [],
      "source": [
        "i = Input(shape=(X_train_vectors.shape[1],))\n",
        "x = Dense(64, activation='relu')(i)\n",
        "x = Dense(32, activation='relu')(x)\n",
        "x = Dense(1, activation='sigmoid')(x)\n",
        "\n",
        "\n",
        "nn_model = Model(inputs=i, outputs=x)\n",
        "\n",
        "\n",
        "nn_model.compile(optimizer='adam', loss='binary_crossentropy', metrics=['accuracy'])\n",
        "\n",
        "\n",
        "early_stopping = EarlyStopping(monitor='val_loss', patience=3, restore_best_weights=True)\n",
        "\n",
        "\n",
        "history = nn_model.fit(X_train_vectors, y_train_main, epochs=100, batch_size=32, validation_data=(X_test_vectors, y_val), callbacks=[early_stopping])"
      ]
    },
    {
      "cell_type": "code",
      "execution_count": null,
      "metadata": {},
      "outputs": [],
      "source": [
        "# Save the model\n",
        "save_model(nn_model, 'nn_model.keras')"
      ]
    },
    {
      "cell_type": "code",
      "execution_count": null,
      "metadata": {},
      "outputs": [],
      "source": [
        "loss, accuracy = nn_model.evaluate(X_test_vectors, y_val)\n",
        "print(\"Accuracy:\", accuracy)"
      ]
    },
    {
      "cell_type": "code",
      "execution_count": null,
      "metadata": {},
      "outputs": [],
      "source": [
        "#eval on completely unseen data\n",
        "test_main_vectors = vectorizer.transform(X_test).toarray()\n",
        "loss, accuracy = nn_model.evaluate(test_main_vectors, y_test)\n",
        "print('Main Accuracy : ', accuracy)"
      ]
    },
    {
      "cell_type": "code",
      "execution_count": 13,
      "metadata": {},
      "outputs": [
        {
          "ename": "NameError",
          "evalue": "name 'nn_model' is not defined",
          "output_type": "error",
          "traceback": [
            "\u001b[1;31m---------------------------------------------------------------------------\u001b[0m",
            "\u001b[1;31mNameError\u001b[0m                                 Traceback (most recent call last)",
            "Cell \u001b[1;32mIn[13], line 4\u001b[0m\n\u001b[0;32m      1\u001b[0m \u001b[38;5;28;01mfrom\u001b[39;00m \u001b[38;5;21;01msklearn\u001b[39;00m\u001b[38;5;21;01m.\u001b[39;00m\u001b[38;5;21;01mmetrics\u001b[39;00m \u001b[38;5;28;01mimport\u001b[39;00m confusion_matrix\n\u001b[0;32m      3\u001b[0m \u001b[38;5;66;03m# Predict probabilities for each class\u001b[39;00m\n\u001b[1;32m----> 4\u001b[0m y_pred_probabilities \u001b[38;5;241m=\u001b[39m \u001b[43mnn_model\u001b[49m\u001b[38;5;241m.\u001b[39mpredict(test_main_vectors)\n\u001b[0;32m      6\u001b[0m \u001b[38;5;66;03m# Convert probabilities to binary predictions\u001b[39;00m\n\u001b[0;32m      7\u001b[0m y_pred \u001b[38;5;241m=\u001b[39m (y_pred_probabilities \u001b[38;5;241m>\u001b[39m \u001b[38;5;241m0.5\u001b[39m)\u001b[38;5;241m.\u001b[39mastype(\u001b[38;5;28mint\u001b[39m)\n",
            "\u001b[1;31mNameError\u001b[0m: name 'nn_model' is not defined"
          ]
        }
      ],
      "source": [
        "from sklearn.metrics import confusion_matrix\n",
        "\n",
        "# Predict probabilities for each class\n",
        "y_pred_probabilities = nn_model.predict(test_main_vectors)\n",
        "\n",
        "# Convert probabilities to binary predictions\n",
        "y_pred = (y_pred_probabilities > 0.5).astype(int)\n",
        "\n",
        "# Calculate confusion matrix\n",
        "conf_matrix = confusion_matrix(y_test, y_pred)\n",
        "\n",
        "print(\"Confusion Matrix:\")\n",
        "print(conf_matrix)"
      ]
    },
    {
      "cell_type": "code",
      "execution_count": 14,
      "metadata": {
        "id": "GiL0VphVkxUw"
      },
      "outputs": [
        {
          "name": "stdout",
          "output_type": "stream",
          "text": [
            "Train val Accuracy: 0.9878385416666666\n",
            "Test valAccuracy: 0.98125\n"
          ]
        }
      ],
      "source": [
        "from sklearn.linear_model import LogisticRegression\n",
        "\n",
        "# Define the logistic regression model\n",
        "lr_model = LogisticRegression()\n",
        "\n",
        "# Fit the model\n",
        "lr_model.fit(X_train_vectors, y_train_main)\n",
        "\n",
        "# Evaluate the model\n",
        "train_score = lr_model.score(X_train_vectors, y_train_main)\n",
        "test_score = lr_model.score(X_test_vectors, y_val)\n",
        "\n",
        "print(\"Train val Accuracy:\", train_score)\n",
        "print(\"Test valAccuracy:\", test_score)"
      ]
    },
    {
      "cell_type": "code",
      "execution_count": 15,
      "metadata": {},
      "outputs": [
        {
          "name": "stdout",
          "output_type": "stream",
          "text": [
            "Test Accuracy: 0.98125\n"
          ]
        }
      ],
      "source": [
        "test_main_vectors = vectorizer.transform(X_test).toarray()\n",
        "test_main_score = lr_model.score(test_main_vectors, y_test)\n",
        "print(\"Test Accuracy:\", test_score)"
      ]
    },
    {
      "cell_type": "code",
      "execution_count": null,
      "metadata": {},
      "outputs": [],
      "source": [
        "#export vectorizor and lr model\n",
        "import pickle\n",
        "\n",
        "# Save vectorizer\n",
        "with open('cosine_vectorizer.pkl', 'wb') as file:\n",
        "    pickle.dump(vectorizer, file)\n",
        "\n",
        "# Save logistic regression model\n",
        "with open('lr_model.pkl', 'wb') as file:\n",
        "    pickle.dump(lr_model, file)"
      ]
    },
    {
      "cell_type": "code",
      "execution_count": null,
      "metadata": {},
      "outputs": [],
      "source": [
        "X_test.iloc[5]"
      ]
    },
    {
      "cell_type": "code",
      "execution_count": null,
      "metadata": {},
      "outputs": [],
      "source": [
        "y_test.iloc[5]"
      ]
    },
    {
      "cell_type": "markdown",
      "metadata": {},
      "source": [
        "#Bag of Words"
      ]
    },
    {
      "cell_type": "markdown",
      "metadata": {},
      "source": [
        "#LR"
      ]
    },
    {
      "cell_type": "code",
      "execution_count": null,
      "metadata": {},
      "outputs": [],
      "source": [
        "\n",
        "vectorizer = CountVectorizer()\n",
        "X_train_vectors = vectorizer.fit_transform(X_train_main)\n",
        "X_val_vectors = vectorizer.transform(X_val)"
      ]
    },
    {
      "cell_type": "code",
      "execution_count": null,
      "metadata": {},
      "outputs": [],
      "source": [
        "import joblib\n",
        "joblib.dump(vectorizer, 'count_vectorizer.pkl')"
      ]
    },
    {
      "cell_type": "code",
      "execution_count": null,
      "metadata": {},
      "outputs": [],
      "source": [
        "lr_model = LogisticRegression()\n",
        "lr_model.fit(X_train_vectors, y_train_main)"
      ]
    },
    {
      "cell_type": "code",
      "execution_count": null,
      "metadata": {},
      "outputs": [],
      "source": [
        "train_accuracy = accuracy_score(y_train_main, lr_model.predict(X_train_vectors))\n",
        "val_accuracy = accuracy_score(y_val, lr_model.predict(X_val_vectors))\n",
        "print(\"Training Accuracy:\", train_accuracy)\n",
        "print(\"Validation Accuracy:\", val_accuracy)"
      ]
    },
    {
      "cell_type": "code",
      "execution_count": null,
      "metadata": {},
      "outputs": [],
      "source": [
        "test = vectorizer.transform(X_test)\n",
        "test_accuracy = accuracy_score(y_test, lr_model.predict(test))\n",
        "print(\"Testing Accuracy:\", test_accuracy)"
      ]
    },
    {
      "cell_type": "code",
      "execution_count": null,
      "metadata": {},
      "outputs": [],
      "source": [
        "joblib.dump(lr_model, 'lr_model_bof.pkl')"
      ]
    },
    {
      "cell_type": "markdown",
      "metadata": {},
      "source": [
        "#SVM BOW"
      ]
    },
    {
      "cell_type": "code",
      "execution_count": null,
      "metadata": {},
      "outputs": [],
      "source": [
        "\n",
        "svm_model = SVC(kernel='linear') \n",
        "svm_model.fit(X_train_vectors, y_train_main)"
      ]
    },
    {
      "cell_type": "code",
      "execution_count": null,
      "metadata": {},
      "outputs": [],
      "source": [
        "train_accuracy = svm_model.score(X_train_vectors, y_train_main)\n",
        "val_accuracy = svm_model.score(X_val_vectors, y_val)\n",
        "print(\"Training Accuracy:\", train_accuracy)\n",
        "print(\"Validation Accuracy:\", val_accuracy)"
      ]
    },
    {
      "cell_type": "code",
      "execution_count": null,
      "metadata": {},
      "outputs": [],
      "source": [
        "test = vectorizer.transform(X_test)\n",
        "test_accuracy = accuracy_score(y_test, svm_model.predict(test))\n",
        "print(\"Testing Accuracy:\", test_accuracy)"
      ]
    },
    {
      "cell_type": "code",
      "execution_count": null,
      "metadata": {},
      "outputs": [],
      "source": [
        "joblib.dump(svm_model, 'svm_bow.pkl')"
      ]
    },
    {
      "cell_type": "markdown",
      "metadata": {},
      "source": [
        "#Ngram\n",
        "#LR"
      ]
    },
    {
      "cell_type": "code",
      "execution_count": null,
      "metadata": {},
      "outputs": [],
      "source": [
        "ngram_vectorizer = CountVectorizer(ngram_range=(1, 2))"
      ]
    },
    {
      "cell_type": "code",
      "execution_count": null,
      "metadata": {},
      "outputs": [],
      "source": [
        "X_train_vectors = ngram_vectorizer.fit_transform(X_train_main)\n",
        "X_val_vectors = ngram_vectorizer.transform(X_val)"
      ]
    },
    {
      "cell_type": "code",
      "execution_count": null,
      "metadata": {},
      "outputs": [],
      "source": [
        "joblib.dump(ngram_vectorizer, 'vectorizer_ngram.pkl')"
      ]
    },
    {
      "cell_type": "code",
      "execution_count": null,
      "metadata": {},
      "outputs": [],
      "source": [
        "lr_model = LogisticRegression()\n",
        "lr_model.fit(X_train_vectors, y_train_main)"
      ]
    },
    {
      "cell_type": "code",
      "execution_count": null,
      "metadata": {},
      "outputs": [],
      "source": [
        "train_accuracy = accuracy_score(y_train_main, lr_model.predict(X_train_vectors))\n",
        "val_accuracy = accuracy_score(y_val, lr_model.predict(X_val_vectors))"
      ]
    },
    {
      "cell_type": "code",
      "execution_count": null,
      "metadata": {},
      "outputs": [],
      "source": [
        "print(\"Training Accuracy:\", train_accuracy)\n",
        "print(\"Validation Accuracy:\", val_accuracy)"
      ]
    },
    {
      "cell_type": "code",
      "execution_count": null,
      "metadata": {},
      "outputs": [],
      "source": [
        "test = ngram_vectorizer.transform(X_test)\n",
        "test_accuracy = accuracy_score(y_test, lr_model.predict(test))\n",
        "print(\"Testing Accuracy:\", test_accuracy)"
      ]
    },
    {
      "cell_type": "code",
      "execution_count": null,
      "metadata": {},
      "outputs": [],
      "source": [
        "joblib.dump(lr_model, 'lr_ngram.pkl')"
      ]
    },
    {
      "cell_type": "code",
      "execution_count": null,
      "metadata": {},
      "outputs": [],
      "source": [
        "X_train_vectors = ngram_vectorizer.fit_transform(X_train_main)\n",
        "\n",
        "# Transform the validation data\n",
        "X_val_vectors = ngram_vectorizer.transform(X_val)\n",
        "\n",
        "# Initialize and train the SVM model\n",
        "svm_model = SVC(kernel='linear')  # Linear kernel for SVM\n",
        "svm_model.fit(X_train_vectors, y_train_main)\n",
        "\n",
        "# Evaluate the model\n",
        "train_accuracy = svm_model.score(X_train_vectors, y_train_main)\n",
        "val_accuracy = svm_model.score(X_val_vectors, y_val)\n",
        "\n",
        "print(\"Training Accuracy:\", train_accuracy)\n",
        "print(\"Validation Accuracy:\", val_accuracy)"
      ]
    },
    {
      "cell_type": "code",
      "execution_count": null,
      "metadata": {},
      "outputs": [],
      "source": [
        "test = ngram_vectorizer.transform(X_test)\n",
        "test_accuracy = accuracy_score(y_test, svm_model.predict(test))\n",
        "print(\"Testing Accuracy:\", test_accuracy)"
      ]
    },
    {
      "cell_type": "code",
      "execution_count": null,
      "metadata": {},
      "outputs": [],
      "source": [
        "joblib.dump(svm_model, 'svc_ngram.pkl')"
      ]
    },
    {
      "cell_type": "code",
      "execution_count": null,
      "metadata": {},
      "outputs": [],
      "source": []
    }
  ],
  "metadata": {
    "accelerator": "GPU",
    "colab": {
      "gpuType": "T4",
      "provenance": []
    },
    "kernelspec": {
      "display_name": "Python 3",
      "name": "python3"
    },
    "language_info": {
      "codemirror_mode": {
        "name": "ipython",
        "version": 3
      },
      "file_extension": ".py",
      "mimetype": "text/x-python",
      "name": "python",
      "nbconvert_exporter": "python",
      "pygments_lexer": "ipython3",
      "version": "3.11.9"
    }
  },
  "nbformat": 4,
  "nbformat_minor": 0
}
