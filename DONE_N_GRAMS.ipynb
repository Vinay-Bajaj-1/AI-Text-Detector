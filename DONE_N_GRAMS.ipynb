{
 "cells": [
  {
   "cell_type": "code",
   "execution_count": 1,
   "id": "df63020b",
   "metadata": {},
   "outputs": [],
   "source": [
    "import numpy as np\n",
    "from sklearn.model_selection import train_test_split\n",
    "from sklearn.feature_extraction.text import CountVectorizer\n",
    "from sklearn.linear_model import LogisticRegression\n",
    "from sklearn.metrics import accuracy_score\n",
    "from nltk.util import ngrams\n",
    "import pandas as pd\n",
    "import re\n",
    "from nltk.corpus import stopwords\n",
    "from nltk.tokenize import word_tokenize"
   ]
  },
  {
   "cell_type": "code",
   "execution_count": 5,
   "id": "d1079896",
   "metadata": {},
   "outputs": [],
   "source": [
    "# Read the CSV file into a DataFrame\n",
    "input_file = 'Training_Essay_Data.csv'\n",
    "#output_file = 'output3.csv'\n",
    "\n",
    "df = pd.read_csv(input_file)\n",
    "data = df.sample(n=10000, random_state=42)"
   ]
  },
  {
   "cell_type": "code",
   "execution_count": 7,
   "id": "9840b8c8",
   "metadata": {},
   "outputs": [
    {
     "name": "stdout",
     "output_type": "stream",
     "text": [
      "Accuracy: 0.9885\n"
     ]
    }
   ],
   "source": [
    "# Sample dataset with columns 'text' and 'label'\n",
    "# Assuming 'text' contains the text data and 'label' contains the corresponding labels\n",
    "# Replace this with your dataset\n",
    "\n",
    "\n",
    "# Text preprocessing function\n",
    "def preprocess_text(text):\n",
    "    # Convert text to lowercase\n",
    "    text = text.lower()\n",
    "    # Remove special characters and numbers\n",
    "    text = re.sub(r'[^a-z\\s]', '', text)\n",
    "    # Tokenize text\n",
    "    tokens = word_tokenize(text)\n",
    "    # Remove stop words\n",
    "    stop_words = set(stopwords.words('english'))\n",
    "    tokens = [word for word in tokens if word not in stop_words]\n",
    "    # Join tokens back into text\n",
    "    processed_text = ' '.join(tokens)\n",
    "    return processed_text\n",
    "\n",
    "# Preprocess text data\n",
    "data['processed_text'] = data['text'].apply(preprocess_text)\n",
    "\n",
    "# Split dataset into training and testing sets\n",
    "X_train, X_test, y_train, y_test = train_test_split(data['processed_text'], data['generated'], test_size=0.2, random_state=42)\n",
    "\n",
    "# Generate n-grams (bi-grams) from text data\n",
    "ngram_range = (1, 2)  # Use bi-grams (n=2)\n",
    "vectorizer = CountVectorizer(ngram_range=ngram_range)\n",
    "X_train_ngrams = vectorizer.fit_transform(X_train)\n",
    "X_test_ngrams = vectorizer.transform(X_test)\n",
    "\n",
    "# Train a logistic regression model using n-gram features\n",
    "model = LogisticRegression()\n",
    "model.fit(X_train_ngrams, y_train)\n",
    "\n",
    "# Predict labels for the testing set\n",
    "y_pred = model.predict(X_test_ngrams)\n",
    "\n",
    "# Evaluate model performance\n",
    "accuracy = accuracy_score(y_test, y_pred)\n",
    "print(\"Accuracy:\", accuracy)"
   ]
  },
  {
   "cell_type": "code",
   "execution_count": 16,
   "id": "45ecc180",
   "metadata": {},
   "outputs": [
    {
     "name": "stdout",
     "output_type": "stream",
     "text": [
      "Enter the text to predict: own cars and 57 percent sold a car to move there. Heidrun Walter said\"When I had a car I was always tense. Im much happierthis way\". According to \"Carfree dat in spinning into a big hit in Bogota\" by Andrew Selsky in Bogota,Columbia they have been without cars for 3 years. Also Carlos Arturo Plaza said \"It's a good opportunit totake awat stresss and lower the air pollution\".  According to \"The End of Car Culture\" by: Elisabeth Rosenthal recent studies show that Americans are buying fewer cars, driving less and getting fewer licences as each year goes by. The number of miles driven in the United States peaked in 2005 and dropped steadily afterwards, according to an analysis by Doug Short of Adivor Perspectives. People who stopped driving there cars as a result of hard times may not find a reason to go back to driving if they are saving money.  So I believe that they're many reason to have a car. However they're many advantages to limiting your car use. You can think of yourself as doing a good deed to the earth when walking somewhere or riding your bike are catching the bus. You can have a clear mind and seize stressing so much. Also you can save money I think that everybody likes to save money one way or another. Instead of drivng your car to the mall you can save that money and catch the bus to the mall and buy that new purse that you have been dying to get.\n"
     ]
    }
   ],
   "source": [
    "input_text = input(\"Enter the text to predict: \")"
   ]
  },
  {
   "cell_type": "code",
   "execution_count": 17,
   "id": "b2d1ef1f",
   "metadata": {},
   "outputs": [],
   "source": [
    "# Vectorize the input text\n",
    "input_vec = vectorizer.transform([input_text])"
   ]
  },
  {
   "cell_type": "code",
   "execution_count": 18,
   "id": "1fb2de47",
   "metadata": {},
   "outputs": [
    {
     "data": {
      "text/plain": [
       "array([0], dtype=int64)"
      ]
     },
     "execution_count": 18,
     "metadata": {},
     "output_type": "execute_result"
    }
   ],
   "source": [
    "# Make prediction\n",
    "predicted_label = model.predict(input_vec)\n",
    "predicted_label"
   ]
  },
  {
   "cell_type": "code",
   "execution_count": null,
   "id": "c259c3ac",
   "metadata": {},
   "outputs": [],
   "source": []
  }
 ],
 "metadata": {
  "kernelspec": {
   "display_name": "Python 3 (ipykernel)",
   "language": "python",
   "name": "python3"
  },
  "language_info": {
   "codemirror_mode": {
    "name": "ipython",
    "version": 3
   },
   "file_extension": ".py",
   "mimetype": "text/x-python",
   "name": "python",
   "nbconvert_exporter": "python",
   "pygments_lexer": "ipython3",
   "version": "3.9.13"
  }
 },
 "nbformat": 4,
 "nbformat_minor": 5
}
